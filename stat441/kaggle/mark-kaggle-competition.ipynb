{
 "cells": [
  {
   "cell_type": "code",
   "execution_count": 2,
   "metadata": {},
   "outputs": [
    {
     "name": "stdout",
     "output_type": "stream",
     "text": [
      "     psu_hh_idcode  subjective_poverty_1  subjective_poverty_2  \\\n",
      "0           30_8_1                     0                     0   \n",
      "1          194_1_2                     1                     0   \n",
      "2          224_6_1                     0                     0   \n",
      "3         323_10_1                     0                     0   \n",
      "4         428_10_1                     0                     0   \n",
      "...            ...                   ...                   ...   \n",
      "5332       571_8_1                     0                     0   \n",
      "5333       601_5_1                     0                     0   \n",
      "5334       782_1_1                     0                     1   \n",
      "5335       606_3_1                     0                     0   \n",
      "5336       450_4_1                     0                     0   \n",
      "\n",
      "      subjective_poverty_3  subjective_poverty_4  subjective_poverty_5  \\\n",
      "0                        0                     1                     0   \n",
      "1                        0                     0                     0   \n",
      "2                        1                     0                     0   \n",
      "3                        0                     0                     1   \n",
      "4                        0                     1                     0   \n",
      "...                    ...                   ...                   ...   \n",
      "5332                     1                     0                     0   \n",
      "5333                     0                     1                     0   \n",
      "5334                     0                     0                     0   \n",
      "5335                     0                     0                     1   \n",
      "5336                     0                     1                     0   \n",
      "\n",
      "      subjective_poverty_6  subjective_poverty_7  subjective_poverty_8  \\\n",
      "0                        0                     0                     0   \n",
      "1                        0                     0                     0   \n",
      "2                        0                     0                     0   \n",
      "3                        0                     0                     0   \n",
      "4                        0                     0                     0   \n",
      "...                    ...                   ...                   ...   \n",
      "5332                     0                     0                     0   \n",
      "5333                     0                     0                     0   \n",
      "5334                     0                     0                     0   \n",
      "5335                     0                     0                     0   \n",
      "5336                     0                     0                     0   \n",
      "\n",
      "      subjective_poverty_9  subjective_poverty_10  psu  hh  idcode  \n",
      "0                        0                      0   30   8       1  \n",
      "1                        0                      0  194   1       2  \n",
      "2                        0                      0  224   6       1  \n",
      "3                        0                      0  323  10       1  \n",
      "4                        0                      0  428  10       1  \n",
      "...                    ...                    ...  ...  ..     ...  \n",
      "5332                     0                      0  571   8       1  \n",
      "5333                     0                      0  601   5       1  \n",
      "5334                     0                      0  782   1       1  \n",
      "5335                     0                      0  606   3       1  \n",
      "5336                     0                      0  450   4       1  \n",
      "\n",
      "[5337 rows x 14 columns]\n"
     ]
    }
   ],
   "source": [
    "import pandas as pd\n",
    "\n",
    "education_train = pd.read_csv('module_Education_train_set.csv')\n",
    "household_train = pd.read_csv('module_HouseholdInfo_train_set.csv')\n",
    "poverty_train = pd.read_csv('module_SubjectivePoverty_train_set.csv')\n",
    "education_test = pd.read_csv('module_Education_test_set.csv')\n",
    "household_test = pd.read_csv('module_HouseholdInfo_test_set.csv')\n",
    "\n",
    "poverty_train[['psu','hh','idcode']] = poverty_train['psu_hh_idcode'].str.split('_', expand=True).astype(int)\n",
    "\n",
    "train_data = pd.merge(education_train, household_train, on=['psu', 'hh', 'idcode'], how='inner')\n",
    "train_data = pd.merge(train_data, poverty_train, on=['psu', 'hh', 'idcode'], how='inner')\n",
    "\n",
    "test_data = pd.merge(education_test, household_test, on=['psu', 'hh', 'idcode'], how='inner')\n",
    "\n",
    "X = train_data.drop(columns=['psu_hh_idcode', 'subjective_poverty_1', 'subjective_poverty_2', 'subjective_poverty_3', 'subjective_poverty_4', 'subjective_poverty_5', 'subjective_poverty_6', 'subjective_poverty_7', 'subjective_poverty_8', 'subjective_poverty_9', 'subjective_poverty_10', 'psu', 'hh', 'idcode'])\n",
    "y = train_data[['subjective_poverty_1', 'subjective_poverty_2', 'subjective_poverty_3', 'subjective_poverty_4', 'subjective_poverty_5', 'subjective_poverty_6', 'subjective_poverty_7', 'subjective_poverty_8', 'subjective_poverty_9', 'subjective_poverty_10']].idxmax(axis=1).str.split('_').str[-1].astype(int) - 1\n",
    "\n",
    "X_test = test_data[X.columns]\n",
    "\n",
    "print(poverty_train)"
   ]
  }
 ],
 "metadata": {
  "kernelspec": {
   "display_name": "Python 3",
   "language": "python",
   "name": "python3"
  },
  "language_info": {
   "codemirror_mode": {
    "name": "ipython",
    "version": 3
   },
   "file_extension": ".py",
   "mimetype": "text/x-python",
   "name": "python",
   "nbconvert_exporter": "python",
   "pygments_lexer": "ipython3",
   "version": "3.11.4"
  }
 },
 "nbformat": 4,
 "nbformat_minor": 2
}
